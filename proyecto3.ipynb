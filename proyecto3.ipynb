{
  "nbformat": 4,
  "nbformat_minor": 0,
  "metadata": {
    "colab": {
      "provenance": [],
      "authorship_tag": "ABX9TyPPUolY4NpLcnHDjH0a3Fph",
      "include_colab_link": true
    },
    "kernelspec": {
      "name": "python3",
      "display_name": "Python 3"
    },
    "language_info": {
      "name": "python"
    }
  },
  "cells": [
    {
      "cell_type": "markdown",
      "metadata": {
        "id": "view-in-github",
        "colab_type": "text"
      },
      "source": [
        "<a href=\"https://colab.research.google.com/github/ellozam/ciencia-datos-notebooks/blob/main/proyecto3.ipynb\" target=\"_parent\"><img src=\"https://colab.research.google.com/assets/colab-badge.svg\" alt=\"Open In Colab\"/></a>"
      ]
    },
    {
      "cell_type": "code",
      "execution_count": 7,
      "metadata": {
        "colab": {
          "base_uri": "https://localhost:8080/",
          "height": 628
        },
        "id": "KHDcY_Qqo8JV",
        "outputId": "6d3525e1-19d4-4bad-e8e8-7503be529da2"
      },
      "outputs": [
        {
          "output_type": "stream",
          "name": "stdout",
          "text": [
            "✅ Usando archivo: /content/API_NY.GDP.MKTP.CD_DS2_es_csv_v2_1992.csv\n",
            "Colab notebook detected. To show errors in colab notebook, set debug=True in launch()\n",
            "* Running on public URL: https://6c745d3693ec640ee3.gradio.live\n",
            "\n",
            "This share link expires in 1 week. For free permanent hosting and GPU upgrades, run `gradio deploy` from the terminal in the working directory to deploy to Hugging Face Spaces (https://huggingface.co/spaces)\n"
          ]
        },
        {
          "output_type": "display_data",
          "data": {
            "text/plain": [
              "<IPython.core.display.HTML object>"
            ],
            "text/html": [
              "<div><iframe src=\"https://6c745d3693ec640ee3.gradio.live\" width=\"100%\" height=\"500\" allow=\"autoplay; camera; microphone; clipboard-read; clipboard-write;\" frameborder=\"0\" allowfullscreen></iframe></div>"
            ]
          },
          "metadata": {}
        },
        {
          "output_type": "execute_result",
          "data": {
            "text/plain": []
          },
          "metadata": {},
          "execution_count": 7
        }
      ],
      "source": [
        "# Instalar librerías necesarias\n",
        "!pip install gradio openpyxl --quiet\n",
        "\n",
        "import pandas as pd\n",
        "import matplotlib.pyplot as plt\n",
        "import gradio as gr\n",
        "import glob\n",
        "import numpy as np\n",
        "from io import BytesIO\n",
        "import tempfile\n",
        "import openpyxl\n",
        "import os\n",
        "\n",
        "# Buscar archivos CSV del Banco Mundial\n",
        "csv_path = glob.glob(\"/content/API_*.csv\")\n",
        "if not csv_path:\n",
        "    raise FileNotFoundError(\"❌ No se encontró archivo CSV en /content/. Por favor sube uno con nombre tipo 'API_*.csv'.\")\n",
        "\n",
        "csv_file = csv_path[0]\n",
        "print(f\"✅ Usando archivo: {csv_file}\")\n",
        "\n",
        "# Leer y preparar datos\n",
        "df = pd.read_csv(csv_file, skiprows=4)\n",
        "columnas = ['Country Name'] + [str(year) for year in range(2000, 2023)]\n",
        "df = df[columnas].dropna()\n",
        "paises = sorted(df['Country Name'].unique().tolist())\n",
        "matriz_pib = df.set_index('Country Name').apply(pd.to_numeric, errors='coerce')\n",
        "\n",
        "# Función principal\n",
        "def comparar_y_exportar(pais1, pais2):\n",
        "    try:\n",
        "        datos1 = matriz_pib.loc[pais1].dropna()\n",
        "        datos2 = matriz_pib.loc[pais2].dropna()\n",
        "\n",
        "        comparativa = pd.DataFrame({\n",
        "            'Año': datos1.index.astype(int),\n",
        "            pais1: datos1.values,\n",
        "            pais2: datos2.reindex(datos1.index).values\n",
        "        })\n",
        "\n",
        "        comparativa = comparativa.replace([np.inf, -np.inf], 0).fillna(0)\n",
        "        comparativa[f\"{pais1} Crec %\"] = comparativa[pais1].pct_change()\n",
        "        comparativa[f\"{pais2} Crec %\"] = comparativa[pais2].pct_change()\n",
        "        comparativa = comparativa.round(2)\n",
        "\n",
        "        fig, ax = plt.subplots(figsize=(10, 4))\n",
        "        ax.plot(comparativa['Año'], comparativa[pais1] / 1e9, label=pais1, marker='o')\n",
        "        ax.plot(comparativa['Año'], comparativa[pais2] / 1e9, label=pais2, marker='o')\n",
        "        ax.set_title(f'PIB: {pais1} vs {pais2}')\n",
        "        ax.set_xlabel('Año')\n",
        "        ax.set_ylabel('PIB (miles de millones USD)')\n",
        "        ax.grid(True)\n",
        "        ax.legend()\n",
        "        plt.tight_layout()\n",
        "\n",
        "        imagen = BytesIO()\n",
        "        fig.savefig(imagen, format='png')\n",
        "        imagen.seek(0)\n",
        "\n",
        "        tmp_path = tempfile.NamedTemporaryFile(delete=False, suffix=\".xlsx\").name\n",
        "\n",
        "        with pd.ExcelWriter(tmp_path, engine='openpyxl') as writer:\n",
        "            comparativa.to_excel(writer, index=False, sheet_name='Comparación PIB')\n",
        "            workbook = writer.book\n",
        "            worksheet = workbook['Comparación PIB']\n",
        "\n",
        "            for col_num, value in enumerate(comparativa.columns.values):\n",
        "                worksheet.cell(row=1, column=col_num + 1, value=value)\n",
        "                worksheet.column_dimensions[openpyxl.utils.get_column_letter(col_num + 1)].width = 18\n",
        "\n",
        "            for row_num, row in comparativa.iterrows():\n",
        "                for col_num, value in enumerate(row):\n",
        "                    cell = worksheet.cell(row=row_num + 2, column=col_num + 1, value=value)\n",
        "                    if \"Crec\" in comparativa.columns[col_num]:\n",
        "                        cell.number_format = '0.00%'\n",
        "\n",
        "            image_path = \"/tmp/grafico.png\"\n",
        "            fig.savefig(image_path)\n",
        "            worksheet.add_image(openpyxl.drawing.image.Image(image_path), 'H2')\n",
        "\n",
        "        # IA: sugerencias de países similares\n",
        "        def sugerir(pais_ref):\n",
        "            prom = matriz_pib.loc[pais_ref].mean()\n",
        "            dist = matriz_pib.apply(lambda x: np.abs(x.mean() - prom), axis=1)\n",
        "            return dist.sort_values().drop(index=pais_ref).head(3).index.tolist()\n",
        "\n",
        "        sugeridos1 = sugerir(pais1)\n",
        "        sugeridos2 = sugerir(pais2)\n",
        "\n",
        "        texto = f\"\"\"🤖 IA Sugerencias:\n",
        "- Países similares a **{pais1}**: {', '.join(sugeridos1)}\n",
        "- Países similares a **{pais2}**: {', '.join(sugeridos2)}\"\"\"\n",
        "\n",
        "        return fig, comparativa, texto, tmp_path, \"\"\n",
        "\n",
        "    except Exception as e:\n",
        "        return None, None, f\"❌ Error: {str(e)}\", None, \"⚠️ Ocurrió un error al comparar.\"\n",
        "\n",
        "# Interfaz Gradio mejorada con retorno corregido\n",
        "with gr.Blocks(theme=gr.themes.Soft()) as demo:\n",
        "    gr.Markdown(\"# 🌍 Comparador de PIB Mundial\\nUna herramienta interactiva con IA y exportación a Excel.\")\n",
        "\n",
        "    with gr.Row():\n",
        "        with gr.Column(scale=1):\n",
        "            gr.Markdown(\"### 🔽 Selecciona los países para comparar\")\n",
        "            dropdown1 = gr.Dropdown(choices=paises, label=\"📌 País 1\", value=paises[0])\n",
        "            dropdown2 = gr.Dropdown(choices=paises, label=\"📌 País 2\", value=paises[1])\n",
        "            boton = gr.Button(\"📊 Comparar PIB\", variant='primary')\n",
        "            estado = gr.Markdown(\"\")  # Mensaje de estado dinámico\n",
        "\n",
        "        with gr.Column(scale=2):\n",
        "            gr.Markdown(\"### 📈 Gráfico de comparación del PIB\")\n",
        "            grafico = gr.Plot(label=\"PIB comparado\")\n",
        "            gr.Markdown(\"### 📋 Tabla de datos comparativos\")\n",
        "            tabla = gr.Dataframe(label=\"Datos comparados\", interactive=False)\n",
        "\n",
        "    with gr.Row():\n",
        "        with gr.Column():\n",
        "            texto = gr.Markdown(\"### 🤖 IA Sugerencias de países similares\")\n",
        "        with gr.Column():\n",
        "            archivo = gr.File(label=\"📥 Descargar Excel generado\", file_types=[\".xlsx\"])\n",
        "\n",
        "    # Esta función maneja los retornos de forma limpia\n",
        "    def wrapper(p1, p2):\n",
        "        fig, df_out, tips, file_out, estado_msg = comparar_y_exportar(p1, p2)\n",
        "        return fig, df_out, tips, file_out, estado_msg\n",
        "\n",
        "    boton.click(fn=wrapper,\n",
        "                inputs=[dropdown1, dropdown2],\n",
        "                outputs=[grafico, tabla, texto, archivo, estado])\n",
        "\n",
        "# Lanzar app\n",
        "demo.launch(share=True)\n",
        "\n",
        "\n"
      ]
    }
  ]
}