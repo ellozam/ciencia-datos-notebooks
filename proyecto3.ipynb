{
  "nbformat": 4,
  "nbformat_minor": 0,
  "metadata": {
    "colab": {
      "provenance": [],
      "authorship_tag": "ABX9TyMnR2vNQHZPxrDIuL2711b+",
      "include_colab_link": true
    },
    "kernelspec": {
      "name": "python3",
      "display_name": "Python 3"
    },
    "language_info": {
      "name": "python"
    }
  },
  "cells": [
    {
      "cell_type": "markdown",
      "metadata": {
        "id": "view-in-github",
        "colab_type": "text"
      },
      "source": [
        "<a href=\"https://colab.research.google.com/github/ellozam/ciencia-datos-notebooks/blob/main/proyecto3.ipynb\" target=\"_parent\"><img src=\"https://colab.research.google.com/assets/colab-badge.svg\" alt=\"Open In Colab\"/></a>"
      ]
    },
    {
      "cell_type": "code",
      "execution_count": 3,
      "metadata": {
        "colab": {
          "base_uri": "https://localhost:8080/",
          "height": 611
        },
        "id": "KHDcY_Qqo8JV",
        "outputId": "eaea1f83-273a-40ac-8290-469eff528884"
      },
      "outputs": [
        {
          "output_type": "stream",
          "name": "stdout",
          "text": [
            "Colab notebook detected. To show errors in colab notebook, set debug=True in launch()\n",
            "* Running on public URL: https://c473ae89be43b59a51.gradio.live\n",
            "\n",
            "This share link expires in 1 week. For free permanent hosting and GPU upgrades, run `gradio deploy` from the terminal in the working directory to deploy to Hugging Face Spaces (https://huggingface.co/spaces)\n"
          ]
        },
        {
          "output_type": "display_data",
          "data": {
            "text/plain": [
              "<IPython.core.display.HTML object>"
            ],
            "text/html": [
              "<div><iframe src=\"https://c473ae89be43b59a51.gradio.live\" width=\"100%\" height=\"500\" allow=\"autoplay; camera; microphone; clipboard-read; clipboard-write;\" frameborder=\"0\" allowfullscreen></iframe></div>"
            ]
          },
          "metadata": {}
        },
        {
          "output_type": "execute_result",
          "data": {
            "text/plain": []
          },
          "metadata": {},
          "execution_count": 3
        }
      ],
      "source": [
        "# ✅ Paso 1: Instalar Gradio si no lo tenés\n",
        "!pip install gradio --quiet\n",
        "\n",
        "# ✅ Paso 2: Leer CSV directamente desde Colab (ya descomprimido)\n",
        "import pandas as pd\n",
        "import matplotlib.pyplot as plt\n",
        "import gradio as gr\n",
        "import glob\n",
        "\n",
        "# ✅ Buscar el archivo CSV automáticamente\n",
        "csv_path = glob.glob(\"/content/API_*.csv\")\n",
        "assert csv_path, \"❌ No se encontró ningún archivo CSV que empiece con 'API_' en /content\"\n",
        "csv_file = csv_path[0]\n",
        "\n",
        "# ✅ Leer y preparar los datos\n",
        "df = pd.read_csv(csv_file, skiprows=4)\n",
        "\n",
        "# ✅ Filtrar columnas necesarias\n",
        "columnas = ['Country Name'] + [str(year) for year in range(2000, 2023)]\n",
        "df = df[columnas].dropna()\n",
        "paises = sorted(df['Country Name'].unique().tolist())\n",
        "\n",
        "# ✅ Función para mostrar datos\n",
        "def visualizar_pib(pais):\n",
        "    datos = df[df['Country Name'] == pais].drop(columns='Country Name').T\n",
        "    datos.columns = ['PIB']\n",
        "    datos.index.name = 'Año'\n",
        "    datos = datos.dropna()\n",
        "    datos.index = datos.index.astype(int)\n",
        "    datos['Crecimiento %'] = datos['PIB'].pct_change() * 100\n",
        "    tabla = datos.round(2).reset_index()\n",
        "\n",
        "    # Gráfico\n",
        "    fig, ax = plt.subplots(figsize=(10, 4))\n",
        "    ax.plot(datos.index, datos['PIB'] / 1e9, marker='o', color='blue')\n",
        "    ax.set_title(f'PIB de {pais} (2000–2022)')\n",
        "    ax.set_xlabel('Año')\n",
        "    ax.set_ylabel('PIB (miles de millones USD)')\n",
        "    ax.grid(True)\n",
        "    plt.tight_layout()\n",
        "\n",
        "    return fig, tabla\n",
        "\n",
        "# ✅ Interfaz Gradio\n",
        "with gr.Blocks() as demo:\n",
        "    gr.Markdown(\"## 🌍 Visualizador de PIB Mundial (2000–2022)\")\n",
        "    dropdown = gr.Dropdown(choices=paises, label=\"Seleccioná un país\", value=paises[0])\n",
        "    boton = gr.Button(\"Mostrar análisis\")\n",
        "    grafico = gr.Plot()\n",
        "    tabla = gr.Dataframe()\n",
        "\n",
        "    boton.click(fn=visualizar_pib, inputs=dropdown, outputs=[grafico, tabla])\n",
        "\n",
        "# ✅ Lanzar Gradio\n",
        "demo.launch(share=True)\n"
      ]
    }
  ]
}