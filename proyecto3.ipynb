{
  "nbformat": 4,
  "nbformat_minor": 0,
  "metadata": {
    "colab": {
      "provenance": [],
      "authorship_tag": "ABX9TyPkul/AcZ6nPvp5sxYu6wl6",
      "include_colab_link": true
    },
    "kernelspec": {
      "name": "python3",
      "display_name": "Python 3"
    },
    "language_info": {
      "name": "python"
    }
  },
  "cells": [
    {
      "cell_type": "markdown",
      "metadata": {
        "id": "view-in-github",
        "colab_type": "text"
      },
      "source": [
        "<a href=\"https://colab.research.google.com/github/ellozam/ciencia-datos-notebooks/blob/main/proyecto3.ipynb\" target=\"_parent\"><img src=\"https://colab.research.google.com/assets/colab-badge.svg\" alt=\"Open In Colab\"/></a>"
      ]
    },
    {
      "cell_type": "code",
      "execution_count": 20,
      "metadata": {
        "colab": {
          "base_uri": "https://localhost:8080/",
          "height": 611
        },
        "id": "KHDcY_Qqo8JV",
        "outputId": "8b780c56-3df0-4804-ed05-b606d675b53b"
      },
      "outputs": [
        {
          "output_type": "stream",
          "name": "stdout",
          "text": [
            "Colab notebook detected. To show errors in colab notebook, set debug=True in launch()\n",
            "* Running on public URL: https://3a150494621be2aa89.gradio.live\n",
            "\n",
            "This share link expires in 1 week. For free permanent hosting and GPU upgrades, run `gradio deploy` from the terminal in the working directory to deploy to Hugging Face Spaces (https://huggingface.co/spaces)\n"
          ]
        },
        {
          "output_type": "display_data",
          "data": {
            "text/plain": [
              "<IPython.core.display.HTML object>"
            ],
            "text/html": [
              "<div><iframe src=\"https://3a150494621be2aa89.gradio.live\" width=\"100%\" height=\"500\" allow=\"autoplay; camera; microphone; clipboard-read; clipboard-write;\" frameborder=\"0\" allowfullscreen></iframe></div>"
            ]
          },
          "metadata": {}
        },
        {
          "output_type": "execute_result",
          "data": {
            "text/plain": []
          },
          "metadata": {},
          "execution_count": 20
        }
      ],
      "source": [
        "!pip install gradio openpyxl --quiet\n",
        "\n",
        "import pandas as pd\n",
        "import matplotlib.pyplot as plt\n",
        "import gradio as gr\n",
        "import glob\n",
        "import numpy as np\n",
        "from io import BytesIO\n",
        "import tempfile\n",
        "import openpyxl\n",
        "\n",
        "# Cargar CSV del PIB (suponiendo que está en /content)\n",
        "csv_path = glob.glob(\"/content/API_*.csv\")\n",
        "assert csv_path, \"❌ No se encontró archivo CSV válido\"\n",
        "csv_file = csv_path[0]\n",
        "\n",
        "df = pd.read_csv(csv_file, skiprows=4)\n",
        "columnas = ['Country Name'] + [str(year) for year in range(2000, 2023)]\n",
        "df = df[columnas].dropna()\n",
        "paises = sorted(df['Country Name'].unique().tolist())\n",
        "matriz_pib = df.set_index('Country Name').apply(pd.to_numeric, errors='coerce')\n",
        "\n",
        "# Función principal para comparar PIB y exportar Excel\n",
        "def comparar_y_exportar(pais1, pais2):\n",
        "    try:\n",
        "        # Filtrar los datos de los países seleccionados\n",
        "        datos1 = matriz_pib.loc[pais1].dropna()\n",
        "        datos2 = matriz_pib.loc[pais2].dropna()\n",
        "\n",
        "        comparativa = pd.DataFrame({\n",
        "            'Año': datos1.index.astype(int),\n",
        "            pais1: datos1.values,\n",
        "            pais2: datos2.reindex(datos1.index).values\n",
        "        })\n",
        "\n",
        "        # Reemplazar valores NaN e INF por 0 (más simple)\n",
        "        comparativa = comparativa.replace([np.inf, -np.inf], 0).fillna(0)\n",
        "\n",
        "        # Calcular el crecimiento de cada país\n",
        "        comparativa[f\"{pais1} Crec %\"] = comparativa[pais1].pct_change() * 100\n",
        "        comparativa[f\"{pais2} Crec %\"] = comparativa[pais2].pct_change() * 100\n",
        "        comparativa = comparativa.round(2)\n",
        "\n",
        "        # Gráfico de comparación PIB\n",
        "        fig, ax = plt.subplots(figsize=(10, 4))\n",
        "        ax.plot(comparativa['Año'], comparativa[pais1] / 1e9, label=pais1, marker='o')\n",
        "        ax.plot(comparativa['Año'], comparativa[pais2] / 1e9, label=pais2, marker='o')\n",
        "        ax.set_title(f'PIB: {pais1} vs {pais2}')\n",
        "        ax.set_xlabel('Año')\n",
        "        ax.set_ylabel('PIB (miles de millones USD)')\n",
        "        ax.grid(True)\n",
        "        ax.legend()\n",
        "        plt.tight_layout()\n",
        "\n",
        "        # Guardar gráfico en memoria (BytesIO)\n",
        "        imagen = BytesIO()\n",
        "        fig.savefig(imagen, format='png')\n",
        "        imagen.seek(0)\n",
        "\n",
        "        # Crear archivo Excel temporal sin valores NaN o INF\n",
        "        tmp_path = tempfile.NamedTemporaryFile(delete=False, suffix=\".xlsx\").name\n",
        "\n",
        "        # Usar openpyxl para guardar el Excel\n",
        "        with pd.ExcelWriter(tmp_path, engine='openpyxl') as writer:\n",
        "            comparativa.to_excel(writer, index=False, sheet_name='Comparación PIB')\n",
        "\n",
        "            workbook = writer.book\n",
        "            worksheet = workbook['Comparación PIB']\n",
        "\n",
        "            # Ajuste de columnas y estilo\n",
        "            for col_num, value in enumerate(comparativa.columns.values):\n",
        "                worksheet.cell(row=1, column=col_num + 1, value=value)\n",
        "                worksheet.column_dimensions[openpyxl.utils.get_column_letter(col_num + 1)].width = 18\n",
        "\n",
        "            # Formato de las celdas (números y porcentajes)\n",
        "            for row_num, row in comparativa.iterrows():\n",
        "                for col_num, value in enumerate(row):\n",
        "                    if \"Crec\" in comparativa.columns[col_num]:\n",
        "                        worksheet.cell(row=row_num + 2, column=col_num + 1, value=value)\n",
        "                        worksheet.cell(row=row_num + 2, column=col_num + 1).number_format = '0.00%'\n",
        "                    else:\n",
        "                        worksheet.cell(row=row_num + 2, column=col_num + 1, value=value)\n",
        "\n",
        "            # Insertar imagen del gráfico\n",
        "            image_path = \"/tmp/grafico.png\"\n",
        "            fig.savefig(image_path)\n",
        "            worksheet.add_image(openpyxl.drawing.image.Image(image_path), 'H2')\n",
        "\n",
        "        # IA: Sugerencias de países similares\n",
        "        def sugerir(pais_ref):\n",
        "            prom = matriz_pib.loc[pais_ref].mean()\n",
        "            dist = matriz_pib.apply(lambda x: np.abs(x.mean() - prom), axis=1)\n",
        "            return dist.sort_values().drop(index=pais_ref).head(3).index.tolist()\n",
        "\n",
        "        sugeridos1 = sugerir(pais1)\n",
        "        sugeridos2 = sugerir(pais2)\n",
        "\n",
        "        texto = (\n",
        "            f\"🤖 IA Sugerencias:\\n\"\n",
        "            f\"- Países similares a **{pais1}**: {', '.join(sugeridos1)}\\n\"\n",
        "            f\"- Países similares a **{pais2}**: {', '.join(sugeridos2)}\"\n",
        "        )\n",
        "\n",
        "        # Retornar gráficos y archivo Excel\n",
        "        return fig, comparativa, texto, tmp_path\n",
        "    except Exception as e:\n",
        "        print(f\"Error al procesar los datos: {e}\")\n",
        "        return None, None, f\"Error: {e}\", None\n",
        "\n",
        "# Interfaz Gradio\n",
        "with gr.Blocks() as demo:\n",
        "    gr.Markdown(\"## 🌎 Comparador de PIB con IA y Excel Estilizado\")\n",
        "    with gr.Row():\n",
        "        dropdown1 = gr.Dropdown(choices=paises, label=\"País 1\", value=paises[0])\n",
        "        dropdown2 = gr.Dropdown(choices=paises, label=\"País 2\", value=paises[1])\n",
        "    boton = gr.Button(\"Comparar\")\n",
        "    grafico = gr.Plot()\n",
        "    tabla = gr.Dataframe()\n",
        "    texto = gr.Markdown()\n",
        "    archivo = gr.File(label=\"📥 Descargar Excel\")\n",
        "\n",
        "    boton.click(fn=comparar_y_exportar,\n",
        "                inputs=[dropdown1, dropdown2],\n",
        "                outputs=[grafico, tabla, texto, archivo])\n",
        "\n",
        "# Lanzar la app\n",
        "demo.launch(share=True)\n",
        "\n"
      ]
    }
  ]
}