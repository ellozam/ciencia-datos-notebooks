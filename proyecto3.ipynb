{
  "nbformat": 4,
  "nbformat_minor": 0,
  "metadata": {
    "colab": {
      "provenance": [],
      "authorship_tag": "ABX9TyM3jB3/6+mozYppybIUXgiL",
      "include_colab_link": true
    },
    "kernelspec": {
      "name": "python3",
      "display_name": "Python 3"
    },
    "language_info": {
      "name": "python"
    }
  },
  "cells": [
    {
      "cell_type": "markdown",
      "metadata": {
        "id": "view-in-github",
        "colab_type": "text"
      },
      "source": [
        "<a href=\"https://colab.research.google.com/github/ellozam/ciencia-datos-notebooks/blob/main/proyecto3.ipynb\" target=\"_parent\"><img src=\"https://colab.research.google.com/assets/colab-badge.svg\" alt=\"Open In Colab\"/></a>"
      ]
    },
    {
      "cell_type": "code",
      "execution_count": 5,
      "metadata": {
        "colab": {
          "base_uri": "https://localhost:8080/",
          "height": 611
        },
        "id": "KHDcY_Qqo8JV",
        "outputId": "d90195df-fef4-40c9-fbe3-57215729cdea"
      },
      "outputs": [
        {
          "output_type": "stream",
          "name": "stdout",
          "text": [
            "Colab notebook detected. To show errors in colab notebook, set debug=True in launch()\n",
            "* Running on public URL: https://d6232bce43dc003ef9.gradio.live\n",
            "\n",
            "This share link expires in 1 week. For free permanent hosting and GPU upgrades, run `gradio deploy` from the terminal in the working directory to deploy to Hugging Face Spaces (https://huggingface.co/spaces)\n"
          ]
        },
        {
          "output_type": "display_data",
          "data": {
            "text/plain": [
              "<IPython.core.display.HTML object>"
            ],
            "text/html": [
              "<div><iframe src=\"https://d6232bce43dc003ef9.gradio.live\" width=\"100%\" height=\"500\" allow=\"autoplay; camera; microphone; clipboard-read; clipboard-write;\" frameborder=\"0\" allowfullscreen></iframe></div>"
            ]
          },
          "metadata": {}
        },
        {
          "output_type": "execute_result",
          "data": {
            "text/plain": []
          },
          "metadata": {},
          "execution_count": 5
        }
      ],
      "source": [
        "# ✅ Paso 1: Instalar Gradio si no lo tenés\n",
        "!pip install gradio --quiet\n",
        "\n",
        "# ✅ Paso 2: Leer CSV desde archivo ya descomprimido\n",
        "import pandas as pd\n",
        "import matplotlib.pyplot as plt\n",
        "import gradio as gr\n",
        "import glob\n",
        "import numpy as np\n",
        "\n",
        "# ✅ Buscar archivo CSV\n",
        "csv_path = glob.glob(\"/content/API_*.csv\")\n",
        "assert csv_path, \"❌ No se encontró ningún archivo CSV en /content\"\n",
        "csv_file = csv_path[0]\n",
        "\n",
        "# ✅ Leer datos\n",
        "df = pd.read_csv(csv_file, skiprows=4)\n",
        "columnas = ['Country Name'] + [str(year) for year in range(2000, 2023)]\n",
        "df = df[columnas].dropna()\n",
        "paises = sorted(df['Country Name'].unique().tolist())\n",
        "\n",
        "# ✅ Matriz base para IA\n",
        "matriz_pib = df.set_index('Country Name')\n",
        "matriz_pib = matriz_pib.apply(pd.to_numeric, errors='coerce')\n",
        "\n",
        "# ✅ Función de comparación e IA\n",
        "def comparar_paises(pais1, pais2):\n",
        "    datos1 = matriz_pib.loc[pais1].dropna()\n",
        "    datos2 = matriz_pib.loc[pais2].dropna()\n",
        "\n",
        "    # Tabla comparativa\n",
        "    comparativa = pd.DataFrame({\n",
        "        'Año': datos1.index.astype(int),\n",
        "        pais1: datos1.values,\n",
        "        pais2: datos2.reindex(datos1.index).values\n",
        "    })\n",
        "    comparativa[pais1 + \" Crec %\"] = comparativa[pais1].pct_change() * 100\n",
        "    comparativa[pais2 + \" Crec %\"] = comparativa[pais2].pct_change() * 100\n",
        "    comparativa = comparativa.round(2)\n",
        "\n",
        "    # Gráfico\n",
        "    fig, ax = plt.subplots(figsize=(10, 4))\n",
        "    ax.plot(comparativa['Año'], comparativa[pais1] / 1e9, label=pais1, marker='o')\n",
        "    ax.plot(comparativa['Año'], comparativa[pais2] / 1e9, label=pais2, marker='o')\n",
        "    ax.set_title(f'Comparación de PIB: {pais1} vs {pais2}')\n",
        "    ax.set_xlabel('Año')\n",
        "    ax.set_ylabel('PIB (miles de millones USD)')\n",
        "    ax.grid(True)\n",
        "    ax.legend()\n",
        "    plt.tight_layout()\n",
        "\n",
        "    # ✅ IA sugerencia: PIB promedio similar\n",
        "    def sugerir(pais_ref):\n",
        "        pib_prom = matriz_pib.loc[pais_ref].mean()\n",
        "        distancias = matriz_pib.apply(lambda x: np.abs(x.mean() - pib_prom), axis=1)\n",
        "        sugerencias = distancias.sort_values().drop(index=pais_ref).head(3).index.tolist()\n",
        "        return sugerencias\n",
        "\n",
        "    sugeridos1 = sugerir(pais1)\n",
        "    sugeridos2 = sugerir(pais2)\n",
        "\n",
        "    texto = (\n",
        "        f\"🔎 Sugerencias IA:\\n\"\n",
        "        f\"- Países similares a **{pais1}**: {', '.join(sugeridos1)}\\n\"\n",
        "        f\"- Países similares a **{pais2}**: {', '.join(sugeridos2)}\"\n",
        "    )\n",
        "\n",
        "    return fig, comparativa, texto\n",
        "\n",
        "# ✅ Interfaz Gradio\n",
        "with gr.Blocks() as demo:\n",
        "    gr.Markdown(\"## 🌐 Comparador de PIB Mundial (2000–2022) + IA Recomendadora\")\n",
        "    with gr.Row():\n",
        "        dropdown1 = gr.Dropdown(choices=paises, label=\"País 1\", value=paises[0])\n",
        "        dropdown2 = gr.Dropdown(choices=paises, label=\"País 2\", value=paises[1])\n",
        "    boton = gr.Button(\"Comparar\")\n",
        "    grafico = gr.Plot()\n",
        "    tabla = gr.Dataframe()\n",
        "    texto = gr.Markdown()\n",
        "\n",
        "    boton.click(fn=comparar_paises, inputs=[dropdown1, dropdown2], outputs=[grafico, tabla, texto])\n",
        "\n",
        "# ✅ Lanzar app\n",
        "demo.launch(share=True)\n",
        "\n"
      ]
    }
  ]
}