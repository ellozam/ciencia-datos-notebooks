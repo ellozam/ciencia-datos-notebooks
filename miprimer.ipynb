{
  "nbformat": 4,
  "nbformat_minor": 0,
  "metadata": {
    "colab": {
      "provenance": [],
      "toc_visible": true,
      "authorship_tag": "ABX9TyOO/I0uv5enbRO5an6AoEeY",
      "include_colab_link": true
    },
    "kernelspec": {
      "name": "python3",
      "display_name": "Python 3"
    },
    "language_info": {
      "name": "python"
    }
  },
  "cells": [
    {
      "cell_type": "markdown",
      "metadata": {
        "id": "view-in-github",
        "colab_type": "text"
      },
      "source": [
        "<a href=\"https://colab.research.google.com/github/ellozam/ciencia-datos-notebooks/blob/nuevarama/miprimer.ipynb\" target=\"_parent\"><img src=\"https://colab.research.google.com/assets/colab-badge.svg\" alt=\"Open In Colab\"/></a>"
      ]
    },
    {
      "cell_type": "code",
      "execution_count": null,
      "metadata": {
        "id": "o2VusXvi-dpj"
      },
      "outputs": [],
      "source": []
    },
    {
      "cell_type": "code",
      "source": [],
      "metadata": {
        "id": "juJXEPZO-jmA"
      },
      "execution_count": null,
      "outputs": []
    },
    {
      "cell_type": "markdown",
      "source": [],
      "metadata": {
        "id": "WvPjlypMLp5J"
      }
    },
    {
      "cell_type": "code",
      "source": [],
      "metadata": {
        "id": "3E5WP4-FPfsp"
      },
      "execution_count": null,
      "outputs": []
    },
    {
      "cell_type": "code",
      "source": [
        "print(\"escribo en la segunda rama\")"
      ],
      "metadata": {
        "id": "6ozvASO2PtJr"
      },
      "execution_count": null,
      "outputs": []
    },
    {
      "cell_type": "code",
      "source": [
        " print(\"mi segundo comit\")"
      ],
      "metadata": {
        "id": "tdFtbX6DU1V6"
      },
      "execution_count": null,
      "outputs": []
    }
  ]
}