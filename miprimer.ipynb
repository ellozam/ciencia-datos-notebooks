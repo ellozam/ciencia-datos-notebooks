{
  "nbformat": 4,
  "nbformat_minor": 0,
  "metadata": {
    "colab": {
      "provenance": [],
      "toc_visible": true,
      "authorship_tag": "ABX9TyPJiARGuRHZTbtdlS8hGK6J",
      "include_colab_link": true
    },
    "kernelspec": {
      "name": "python3",
      "display_name": "Python 3"
    },
    "language_info": {
      "name": "python"
    }
  },
  "cells": [
    {
      "cell_type": "markdown",
      "metadata": {
        "id": "view-in-github",
        "colab_type": "text"
      },
      "source": [
        "<a href=\"https://colab.research.google.com/github/ellozam/ciencia-datos-notebooks/blob/main/miprimer.ipynb\" target=\"_parent\"><img src=\"https://colab.research.google.com/assets/colab-badge.svg\" alt=\"Open In Colab\"/></a>"
      ]
    },
    {
      "cell_type": "code",
      "execution_count": null,
      "metadata": {
        "id": "o2VusXvi-dpj"
      },
      "outputs": [],
      "source": []
    },
    {
      "cell_type": "code",
      "source": [],
      "metadata": {
        "id": "juJXEPZO-jmA"
      },
      "execution_count": null,
      "outputs": []
    },
    {
      "cell_type": "markdown",
      "source": [],
      "metadata": {
        "id": "WvPjlypMLp5J"
      }
    },
    {
      "cell_type": "code",
      "source": [],
      "metadata": {
        "id": "3E5WP4-FPfsp"
      },
      "execution_count": null,
      "outputs": []
    },
    {
      "cell_type": "code",
      "source": [
        "import pandas as pd\n",
        "\n",
        "# URL del archivo CSV\n",
        "url = \"https://raw.githubusercontent.com/justmarkham/pandas-videos/master/data/imdb_1000.csv\"\n",
        "\n",
        "# Cargar el CSV en un DataFrame\n",
        "df = pd.read_csv(url)\n",
        "\n",
        "# Mostrar las primeras 5 filas\n",
        "print(df.head(5))\n"
      ],
      "metadata": {
        "colab": {
          "base_uri": "https://localhost:8080/"
        },
        "id": "6ozvASO2PtJr",
        "outputId": "930b18f0-569a-4791-d63e-2b07fb262006"
      },
      "execution_count": 2,
      "outputs": [
        {
          "output_type": "stream",
          "name": "stdout",
          "text": [
            "   star_rating                     title content_rating   genre  duration  \\\n",
            "0          9.3  The Shawshank Redemption              R   Crime       142   \n",
            "1          9.2             The Godfather              R   Crime       175   \n",
            "2          9.1    The Godfather: Part II              R   Crime       200   \n",
            "3          9.0           The Dark Knight          PG-13  Action       152   \n",
            "4          8.9              Pulp Fiction              R   Crime       154   \n",
            "\n",
            "                                         actors_list  \n",
            "0  [u'Tim Robbins', u'Morgan Freeman', u'Bob Gunt...  \n",
            "1    [u'Marlon Brando', u'Al Pacino', u'James Caan']  \n",
            "2  [u'Al Pacino', u'Robert De Niro', u'Robert Duv...  \n",
            "3  [u'Christian Bale', u'Heath Ledger', u'Aaron E...  \n",
            "4  [u'John Travolta', u'Uma Thurman', u'Samuel L....  \n"
          ]
        }
      ]
    },
    {
      "cell_type": "code",
      "source": [],
      "metadata": {
        "id": "tdFtbX6DU1V6"
      },
      "execution_count": null,
      "outputs": []
    }
  ]
}